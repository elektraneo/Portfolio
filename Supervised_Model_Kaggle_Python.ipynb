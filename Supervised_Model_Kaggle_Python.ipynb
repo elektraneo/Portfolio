{
 "cells": [
  {
   "cell_type": "markdown",
   "metadata": {},
   "source": [
    "### Kaggle: HR Analytics Job Change of Data Scientists\n",
    "\n",
    "#### BACKGROUND\n",
    "    Written by: Elektra Neocleous\n",
    "    Created: 3/1/2021\n",
    "    Last modifed: 20/3/2021\n",
    "    Objective: To predict the probability of a candidate to look for a new job or will work for the company, \n",
    "    as well as interpreting affected factors on employee decision.\n",
    "    Kaggle:  https://www.kaggle.com/arashnic/hr-analytics-job-change-of-data-scientists\n",
    "\n",
    "#### Kaggle Context and Content\n",
    "\n",
    "A company which is active in Big Data and Data Science wants to hire data scientists among people who successfully pass some courses which conduct by the company. Many people signup for their training. Company wants to know which of these candidates are really wants to work for the company after training or looking for a new employment because it helps to reduce the cost and time as well as the quality of training or planning the courses and categorization of candidates. Information related to demographics, education, experience are in hands from candidates signup and enrollment.\n",
    "\n",
    "This dataset designed to understand the factors that lead a person to leave current job for HR researches too. By model(s) that uses the current credentials,demographics,experience data you will predict the probability of a candidate to look for a new job or will work for the company, as well as interpreting affected factors on employee decision.\n",
    "\n",
    "The whole data divided to train and test . Target isn't included in test but the test target values data file is in hands for related tasks. A sample submission correspond to enrollee_id of test set provided too with columns : enrollee _id , target\n",
    "\n",
    "Note:\n",
    "\n",
    "* The dataset is imbalanced.\n",
    "* Most features are categorical (Nominal, Ordinal, Binary), some with high cardinality.\n",
    "* Missing imputation can be a part of your pipeline as well.\n",
    "\n",
    "#### TABLE OF CONTENTS\n",
    "\n",
    "0. Import and Explore\n",
    "1. Pre-Process\n",
    "    * a. Handling Nulls\n",
    "    * b. Encoding categorical data\n",
    "    * c. Test train split \n",
    "        * i. Raw data without an imbalance resolution\n",
    "        * ii. Resolve imbalance with Smote - Synthetic Minority Oversampling Technique\n",
    "2. Model\n",
    "\n",
    "    * a. Logistic Regression\n",
    "        * i. Train the model\n",
    "        * ii. Score the model\n",
    "        * iii. Performance metrics\n",
    "\n",
    "    * b. Random Forest\n",
    "        * i. Train the model\n",
    "        * ii. Feature Importance\n",
    "\n",
    "    * c. Light GBM\n",
    "        * i. Train the model\n",
    "        * ii. Score the model\n",
    "        * ii. Performance metrics"
   ]
  },
  {
   "cell_type": "code",
   "execution_count": 282,
   "metadata": {},
   "outputs": [],
   "source": [
    "#base packages\n",
    "import pandas as pd\n",
    "import numpy as np\n",
    "\n",
    "#visualisation\n",
    "import seaborn as sns\n",
    "import matplotlib.pyplot as plt\n",
    "\n",
    "#pre-processing and data transformations\n",
    "from sklearn.preprocessing import LabelEncoder\n",
    "from imblearn.over_sampling import SMOTE\n",
    "import copy\n",
    "from sklearn.model_selection import train_test_split\n",
    "from collections import Counter\n",
    "\n",
    "#models\n",
    "from sklearn.linear_model import LogisticRegression\n",
    "from sklearn.ensemble import RandomForestClassifier\n",
    "import lightgbm as lgb\n",
    "\n",
    "#performance metrics\n",
    "from sklearn import metrics\n",
    "from sklearn.model_selection import TimeSeriesSplit, cross_val_score, GridSearchCV\n",
    "from sklearn.metrics import roc_auc_score, classification_report, precision_score, recall_score, f1_score, cohen_kappa_score\n",
    "from category_encoders.ordinal import OrdinalEncoder\n",
    "from sklearn.pipeline import Pipeline\n",
    "from yellowbrick.classifier import DiscriminationThreshold, ROCAUC, confusion_matrix\n",
    "import shap\n",
    "from sklearn.model_selection import cross_val_score\n",
    "from sklearn.metrics import precision_recall_curve"
   ]
  },
  {
   "cell_type": "markdown",
   "metadata": {},
   "source": [
    "### 0. Import and Explore"
   ]
  },
  {
   "cell_type": "code",
   "execution_count": 168,
   "metadata": {},
   "outputs": [],
   "source": [
    "aug_test = pd.read_csv(\"data/aug_test.csv\")\n",
    "aug_train = pd.read_csv(\"data/aug_train.csv\")"
   ]
  },
  {
   "cell_type": "code",
   "execution_count": 169,
   "metadata": {},
   "outputs": [
    {
     "data": {
      "text/html": [
       "<div>\n",
       "<style scoped>\n",
       "    .dataframe tbody tr th:only-of-type {\n",
       "        vertical-align: middle;\n",
       "    }\n",
       "\n",
       "    .dataframe tbody tr th {\n",
       "        vertical-align: top;\n",
       "    }\n",
       "\n",
       "    .dataframe thead th {\n",
       "        text-align: right;\n",
       "    }\n",
       "</style>\n",
       "<table border=\"1\" class=\"dataframe\">\n",
       "  <thead>\n",
       "    <tr style=\"text-align: right;\">\n",
       "      <th></th>\n",
       "      <th>enrollee_id</th>\n",
       "      <th>city</th>\n",
       "      <th>city_development_index</th>\n",
       "      <th>gender</th>\n",
       "      <th>relevent_experience</th>\n",
       "      <th>enrolled_university</th>\n",
       "      <th>education_level</th>\n",
       "      <th>major_discipline</th>\n",
       "      <th>experience</th>\n",
       "      <th>company_size</th>\n",
       "      <th>company_type</th>\n",
       "      <th>last_new_job</th>\n",
       "      <th>training_hours</th>\n",
       "    </tr>\n",
       "  </thead>\n",
       "  <tbody>\n",
       "    <tr>\n",
       "      <th>0</th>\n",
       "      <td>32403</td>\n",
       "      <td>city_41</td>\n",
       "      <td>0.827</td>\n",
       "      <td>Male</td>\n",
       "      <td>Has relevent experience</td>\n",
       "      <td>Full time course</td>\n",
       "      <td>Graduate</td>\n",
       "      <td>STEM</td>\n",
       "      <td>9</td>\n",
       "      <td>&lt;10</td>\n",
       "      <td>NaN</td>\n",
       "      <td>1</td>\n",
       "      <td>21</td>\n",
       "    </tr>\n",
       "    <tr>\n",
       "      <th>1</th>\n",
       "      <td>9858</td>\n",
       "      <td>city_103</td>\n",
       "      <td>0.920</td>\n",
       "      <td>Female</td>\n",
       "      <td>Has relevent experience</td>\n",
       "      <td>no_enrollment</td>\n",
       "      <td>Graduate</td>\n",
       "      <td>STEM</td>\n",
       "      <td>5</td>\n",
       "      <td>NaN</td>\n",
       "      <td>Pvt Ltd</td>\n",
       "      <td>1</td>\n",
       "      <td>98</td>\n",
       "    </tr>\n",
       "    <tr>\n",
       "      <th>2</th>\n",
       "      <td>31806</td>\n",
       "      <td>city_21</td>\n",
       "      <td>0.624</td>\n",
       "      <td>Male</td>\n",
       "      <td>No relevent experience</td>\n",
       "      <td>no_enrollment</td>\n",
       "      <td>High School</td>\n",
       "      <td>NaN</td>\n",
       "      <td>&lt;1</td>\n",
       "      <td>NaN</td>\n",
       "      <td>Pvt Ltd</td>\n",
       "      <td>never</td>\n",
       "      <td>15</td>\n",
       "    </tr>\n",
       "    <tr>\n",
       "      <th>3</th>\n",
       "      <td>27385</td>\n",
       "      <td>city_13</td>\n",
       "      <td>0.827</td>\n",
       "      <td>Male</td>\n",
       "      <td>Has relevent experience</td>\n",
       "      <td>no_enrollment</td>\n",
       "      <td>Masters</td>\n",
       "      <td>STEM</td>\n",
       "      <td>11</td>\n",
       "      <td>10/49</td>\n",
       "      <td>Pvt Ltd</td>\n",
       "      <td>1</td>\n",
       "      <td>39</td>\n",
       "    </tr>\n",
       "    <tr>\n",
       "      <th>4</th>\n",
       "      <td>27724</td>\n",
       "      <td>city_103</td>\n",
       "      <td>0.920</td>\n",
       "      <td>Male</td>\n",
       "      <td>Has relevent experience</td>\n",
       "      <td>no_enrollment</td>\n",
       "      <td>Graduate</td>\n",
       "      <td>STEM</td>\n",
       "      <td>&gt;20</td>\n",
       "      <td>10000+</td>\n",
       "      <td>Pvt Ltd</td>\n",
       "      <td>&gt;4</td>\n",
       "      <td>72</td>\n",
       "    </tr>\n",
       "  </tbody>\n",
       "</table>\n",
       "</div>"
      ],
      "text/plain": [
       "   enrollee_id      city  city_development_index  gender  \\\n",
       "0        32403   city_41                   0.827    Male   \n",
       "1         9858  city_103                   0.920  Female   \n",
       "2        31806   city_21                   0.624    Male   \n",
       "3        27385   city_13                   0.827    Male   \n",
       "4        27724  city_103                   0.920    Male   \n",
       "\n",
       "       relevent_experience enrolled_university education_level  \\\n",
       "0  Has relevent experience    Full time course        Graduate   \n",
       "1  Has relevent experience       no_enrollment        Graduate   \n",
       "2   No relevent experience       no_enrollment     High School   \n",
       "3  Has relevent experience       no_enrollment         Masters   \n",
       "4  Has relevent experience       no_enrollment        Graduate   \n",
       "\n",
       "  major_discipline experience company_size company_type last_new_job  \\\n",
       "0             STEM          9          <10          NaN            1   \n",
       "1             STEM          5          NaN      Pvt Ltd            1   \n",
       "2              NaN         <1          NaN      Pvt Ltd        never   \n",
       "3             STEM         11        10/49      Pvt Ltd            1   \n",
       "4             STEM        >20       10000+      Pvt Ltd           >4   \n",
       "\n",
       "   training_hours  \n",
       "0              21  \n",
       "1              98  \n",
       "2              15  \n",
       "3              39  \n",
       "4              72  "
      ]
     },
     "execution_count": 169,
     "metadata": {},
     "output_type": "execute_result"
    }
   ],
   "source": [
    "aug_test.head(5)"
   ]
  },
  {
   "cell_type": "code",
   "execution_count": 170,
   "metadata": {},
   "outputs": [
    {
     "data": {
      "text/plain": [
       "(2129, 13)"
      ]
     },
     "execution_count": 170,
     "metadata": {},
     "output_type": "execute_result"
    }
   ],
   "source": [
    "aug_test.shape"
   ]
  },
  {
   "cell_type": "code",
   "execution_count": 171,
   "metadata": {},
   "outputs": [
    {
     "data": {
      "text/html": [
       "<div>\n",
       "<style scoped>\n",
       "    .dataframe tbody tr th:only-of-type {\n",
       "        vertical-align: middle;\n",
       "    }\n",
       "\n",
       "    .dataframe tbody tr th {\n",
       "        vertical-align: top;\n",
       "    }\n",
       "\n",
       "    .dataframe thead th {\n",
       "        text-align: right;\n",
       "    }\n",
       "</style>\n",
       "<table border=\"1\" class=\"dataframe\">\n",
       "  <thead>\n",
       "    <tr style=\"text-align: right;\">\n",
       "      <th></th>\n",
       "      <th>enrollee_id</th>\n",
       "      <th>city</th>\n",
       "      <th>city_development_index</th>\n",
       "      <th>gender</th>\n",
       "      <th>relevent_experience</th>\n",
       "      <th>enrolled_university</th>\n",
       "      <th>education_level</th>\n",
       "      <th>major_discipline</th>\n",
       "      <th>experience</th>\n",
       "      <th>company_size</th>\n",
       "      <th>company_type</th>\n",
       "      <th>last_new_job</th>\n",
       "      <th>training_hours</th>\n",
       "      <th>target</th>\n",
       "    </tr>\n",
       "  </thead>\n",
       "  <tbody>\n",
       "    <tr>\n",
       "      <th>0</th>\n",
       "      <td>8949</td>\n",
       "      <td>city_103</td>\n",
       "      <td>0.920</td>\n",
       "      <td>Male</td>\n",
       "      <td>Has relevent experience</td>\n",
       "      <td>no_enrollment</td>\n",
       "      <td>Graduate</td>\n",
       "      <td>STEM</td>\n",
       "      <td>&gt;20</td>\n",
       "      <td>NaN</td>\n",
       "      <td>NaN</td>\n",
       "      <td>1</td>\n",
       "      <td>36</td>\n",
       "      <td>1.0</td>\n",
       "    </tr>\n",
       "    <tr>\n",
       "      <th>1</th>\n",
       "      <td>29725</td>\n",
       "      <td>city_40</td>\n",
       "      <td>0.776</td>\n",
       "      <td>Male</td>\n",
       "      <td>No relevent experience</td>\n",
       "      <td>no_enrollment</td>\n",
       "      <td>Graduate</td>\n",
       "      <td>STEM</td>\n",
       "      <td>15</td>\n",
       "      <td>50-99</td>\n",
       "      <td>Pvt Ltd</td>\n",
       "      <td>&gt;4</td>\n",
       "      <td>47</td>\n",
       "      <td>0.0</td>\n",
       "    </tr>\n",
       "    <tr>\n",
       "      <th>2</th>\n",
       "      <td>11561</td>\n",
       "      <td>city_21</td>\n",
       "      <td>0.624</td>\n",
       "      <td>NaN</td>\n",
       "      <td>No relevent experience</td>\n",
       "      <td>Full time course</td>\n",
       "      <td>Graduate</td>\n",
       "      <td>STEM</td>\n",
       "      <td>5</td>\n",
       "      <td>NaN</td>\n",
       "      <td>NaN</td>\n",
       "      <td>never</td>\n",
       "      <td>83</td>\n",
       "      <td>0.0</td>\n",
       "    </tr>\n",
       "    <tr>\n",
       "      <th>3</th>\n",
       "      <td>33241</td>\n",
       "      <td>city_115</td>\n",
       "      <td>0.789</td>\n",
       "      <td>NaN</td>\n",
       "      <td>No relevent experience</td>\n",
       "      <td>NaN</td>\n",
       "      <td>Graduate</td>\n",
       "      <td>Business Degree</td>\n",
       "      <td>&lt;1</td>\n",
       "      <td>NaN</td>\n",
       "      <td>Pvt Ltd</td>\n",
       "      <td>never</td>\n",
       "      <td>52</td>\n",
       "      <td>1.0</td>\n",
       "    </tr>\n",
       "    <tr>\n",
       "      <th>4</th>\n",
       "      <td>666</td>\n",
       "      <td>city_162</td>\n",
       "      <td>0.767</td>\n",
       "      <td>Male</td>\n",
       "      <td>Has relevent experience</td>\n",
       "      <td>no_enrollment</td>\n",
       "      <td>Masters</td>\n",
       "      <td>STEM</td>\n",
       "      <td>&gt;20</td>\n",
       "      <td>50-99</td>\n",
       "      <td>Funded Startup</td>\n",
       "      <td>4</td>\n",
       "      <td>8</td>\n",
       "      <td>0.0</td>\n",
       "    </tr>\n",
       "  </tbody>\n",
       "</table>\n",
       "</div>"
      ],
      "text/plain": [
       "   enrollee_id      city  city_development_index gender  \\\n",
       "0         8949  city_103                   0.920   Male   \n",
       "1        29725   city_40                   0.776   Male   \n",
       "2        11561   city_21                   0.624    NaN   \n",
       "3        33241  city_115                   0.789    NaN   \n",
       "4          666  city_162                   0.767   Male   \n",
       "\n",
       "       relevent_experience enrolled_university education_level  \\\n",
       "0  Has relevent experience       no_enrollment        Graduate   \n",
       "1   No relevent experience       no_enrollment        Graduate   \n",
       "2   No relevent experience    Full time course        Graduate   \n",
       "3   No relevent experience                 NaN        Graduate   \n",
       "4  Has relevent experience       no_enrollment         Masters   \n",
       "\n",
       "  major_discipline experience company_size    company_type last_new_job  \\\n",
       "0             STEM        >20          NaN             NaN            1   \n",
       "1             STEM         15        50-99         Pvt Ltd           >4   \n",
       "2             STEM          5          NaN             NaN        never   \n",
       "3  Business Degree         <1          NaN         Pvt Ltd        never   \n",
       "4             STEM        >20        50-99  Funded Startup            4   \n",
       "\n",
       "   training_hours  target  \n",
       "0              36     1.0  \n",
       "1              47     0.0  \n",
       "2              83     0.0  \n",
       "3              52     1.0  \n",
       "4               8     0.0  "
      ]
     },
     "execution_count": 171,
     "metadata": {},
     "output_type": "execute_result"
    }
   ],
   "source": [
    "aug_train.head(5)"
   ]
  },
  {
   "cell_type": "code",
   "execution_count": 172,
   "metadata": {},
   "outputs": [
    {
     "data": {
      "text/plain": [
       "(19158, 14)"
      ]
     },
     "execution_count": 172,
     "metadata": {},
     "output_type": "execute_result"
    }
   ],
   "source": [
    "aug_train.shape"
   ]
  },
  {
   "cell_type": "markdown",
   "metadata": {},
   "source": [
    "Explore the target to understand the noted imbalance\n",
    "\n",
    "Target Variable:\n",
    "<br>\n",
    "\n",
    "**0 – Not looking for job change\n",
    "<br>\n",
    "1 – Looking for a job change**"
   ]
  },
  {
   "cell_type": "code",
   "execution_count": 173,
   "metadata": {},
   "outputs": [
    {
     "data": {
      "text/plain": [
       "<matplotlib.axes._subplots.AxesSubplot at 0x25abd0c20a0>"
      ]
     },
     "execution_count": 173,
     "metadata": {},
     "output_type": "execute_result"
    },
    {
     "data": {
      "image/png": "[encoded data removed]",
      "text/plain": [
       "<Figure size 576x396 with 1 Axes>"
      ]
     },
     "metadata": {},
     "output_type": "display_data"
    }
   ],
   "source": [
    "pd.value_counts(aug_train['target']).plot.bar()"
   ]
  },
  {
   "cell_type": "markdown",
   "metadata": {},
   "source": [
    "### 1. Pre-Process"
   ]
  },
  {
   "cell_type": "code",
   "execution_count": 174,
   "metadata": {},
   "outputs": [],
   "source": [
    "#create a copy incase we would like to backtrack\n",
    "df_train=copy.deepcopy(aug_train)\n",
    "df_test=copy.deepcopy(aug_test)"
   ]
  },
  {
   "cell_type": "markdown",
   "metadata": {},
   "source": [
    "**a. Handling Nulls** <br>\n",
    "Our length of the dataset is 21k rows, there is a substantial amount of values missing. To handle the this we can drop the rows missing information and still have a substantial amount of rows to model on."
   ]
  },
  {
   "cell_type": "code",
   "execution_count": 175,
   "metadata": {},
   "outputs": [
    {
     "data": {
      "text/plain": [
       "enrollee_id                  0\n",
       "city                         0\n",
       "city_development_index       0\n",
       "gender                    4508\n",
       "relevent_experience          0\n",
       "enrolled_university        386\n",
       "education_level            460\n",
       "major_discipline          2813\n",
       "experience                  65\n",
       "company_size              5938\n",
       "company_type              6140\n",
       "last_new_job               423\n",
       "training_hours               0\n",
       "target                       0\n",
       "dtype: int64"
      ]
     },
     "execution_count": 175,
     "metadata": {},
     "output_type": "execute_result"
    }
   ],
   "source": [
    "df_train.isna().sum()"
   ]
  },
  {
   "cell_type": "code",
   "execution_count": 176,
   "metadata": {},
   "outputs": [
    {
     "data": {
      "text/plain": [
       "enrollee_id                 0\n",
       "city                        0\n",
       "city_development_index      0\n",
       "gender                    508\n",
       "relevent_experience         0\n",
       "enrolled_university        31\n",
       "education_level            52\n",
       "major_discipline          312\n",
       "experience                  5\n",
       "company_size              622\n",
       "company_type              634\n",
       "last_new_job               40\n",
       "training_hours              0\n",
       "dtype: int64"
      ]
     },
     "execution_count": 176,
     "metadata": {},
     "output_type": "execute_result"
    }
   ],
   "source": [
    "df_test.isna().sum()"
   ]
  },
  {
   "cell_type": "code",
   "execution_count": 177,
   "metadata": {},
   "outputs": [],
   "source": [
    "df_train = df_train.dropna() #drop our na's as theres sufficient rows to fill in the gaps\n",
    "df_test = df_test.dropna()"
   ]
  },
  {
   "cell_type": "code",
   "execution_count": 178,
   "metadata": {},
   "outputs": [
    {
     "data": {
      "text/plain": [
       "(8955, 14)"
      ]
     },
     "execution_count": 178,
     "metadata": {},
     "output_type": "execute_result"
    }
   ],
   "source": [
    "df_train.shape"
   ]
  },
  {
   "cell_type": "code",
   "execution_count": 179,
   "metadata": {},
   "outputs": [
    {
     "data": {
      "text/plain": [
       "(1019, 13)"
      ]
     },
     "execution_count": 179,
     "metadata": {},
     "output_type": "execute_result"
    }
   ],
   "source": [
    "df_test.shape"
   ]
  },
  {
   "cell_type": "markdown",
   "metadata": {},
   "source": [
    "**b. Encoding categorical data** <br>\n",
    "Our samples above show that there is categorical data in the columns, we will need to encode these to allow the model to handle the input sufficiently. "
   ]
  },
  {
   "cell_type": "code",
   "execution_count": 180,
   "metadata": {},
   "outputs": [
    {
     "data": {
      "text/plain": [
       "enrollee_id                 int64\n",
       "city                       object\n",
       "city_development_index    float64\n",
       "gender                     object\n",
       "relevent_experience        object\n",
       "enrolled_university        object\n",
       "education_level            object\n",
       "major_discipline           object\n",
       "experience                 object\n",
       "company_size               object\n",
       "company_type               object\n",
       "last_new_job               object\n",
       "training_hours              int64\n",
       "target                    float64\n",
       "dtype: object"
      ]
     },
     "execution_count": 180,
     "metadata": {},
     "output_type": "execute_result"
    }
   ],
   "source": [
    "#Objects show us that these are categorical, floats and ints are ok\n",
    "df_train.dtypes"
   ]
  },
  {
   "cell_type": "code",
   "execution_count": 181,
   "metadata": {},
   "outputs": [
    {
     "name": "stdout",
     "output_type": "stream",
     "text": [
      "[29725   666   402 ... 32313 29754 24576]\n",
      "['city_40' 'city_162' 'city_46' 'city_103' 'city_61' 'city_114' 'city_159'\n",
      " 'city_21' 'city_160' 'city_16' 'city_83' 'city_64' 'city_105' 'city_104'\n",
      " 'city_73' 'city_75' 'city_100' 'city_93' 'city_67' 'city_13' 'city_36'\n",
      " 'city_71' 'city_57' 'city_65' 'city_11' 'city_136' 'city_97' 'city_50'\n",
      " 'city_173' 'city_82' 'city_89' 'city_150' 'city_90' 'city_98' 'city_28'\n",
      " 'city_115' 'city_94' 'city_165' 'city_142' 'city_12' 'city_43' 'city_74'\n",
      " 'city_102' 'city_116' 'city_99' 'city_23' 'city_138' 'city_45' 'city_41'\n",
      " 'city_72' 'city_19' 'city_101' 'city_20' 'city_106' 'city_10' 'city_157'\n",
      " 'city_144' 'city_91' 'city_133' 'city_145' 'city_123' 'city_175'\n",
      " 'city_128' 'city_167' 'city_84' 'city_54' 'city_126' 'city_81' 'city_176'\n",
      " 'city_131' 'city_149' 'city_24' 'city_27' 'city_118' 'city_152'\n",
      " 'city_141' 'city_76' 'city_70' 'city_143' 'city_78' 'city_53' 'city_158'\n",
      " 'city_2' 'city_77' 'city_117' 'city_120' 'city_9' 'city_39' 'city_80'\n",
      " 'city_155' 'city_179' 'city_37' 'city_30' 'city_44' 'city_14' 'city_55'\n",
      " 'city_42' 'city_1' 'city_59' 'city_69' 'city_7' 'city_109' 'city_26'\n",
      " 'city_62' 'city_18' 'city_127' 'city_33' 'city_134' 'city_146' 'city_107'\n",
      " 'city_166' 'city_121' 'city_129' 'city_48' 'city_139' 'city_25']\n",
      "[0.776 0.767 0.762 0.92  0.913 0.926 0.843 0.624 0.91  0.923 0.666 0.794\n",
      " 0.924 0.754 0.939 0.887 0.865 0.855 0.827 0.893 0.884 0.866 0.802 0.55\n",
      " 0.897 0.925 0.896 0.878 0.693 0.698 0.949 0.789 0.903 0.727 0.64  0.516\n",
      " 0.579 0.804 0.743 0.915 0.899 0.836 0.89  0.795 0.682 0.558 0.796 0.895\n",
      " 0.769 0.84  0.691 0.742 0.555 0.738 0.527 0.921 0.856 0.479 0.73  0.764\n",
      " 0.68  0.689 0.848 0.722 0.763 0.74  0.766 0.788 0.83  0.78  0.898 0.847\n",
      " 0.556 0.512 0.725 0.739 0.563 0.775 0.647 0.701 0.645 0.824 0.745 0.448\n",
      " 0.735 0.518 0.649 0.781 0.625 0.493 0.487]\n",
      "['Male' 'Female' 'Other']\n",
      "['No relevent experience' 'Has relevent experience']\n",
      "['no_enrollment' 'Part time course' 'Full time course']\n",
      "['Graduate' 'Masters' 'Phd']\n",
      "['STEM' 'Humanities' 'Business Degree' 'Other' 'No Major' 'Arts']\n",
      "['15' '>20' '13' '7' '5' '16' '11' '<1' '18' '19' '12' '10' '9' '2' '6'\n",
      " '4' '14' '3' '8' '17' '20' '1']\n",
      "['50-99' '<10' '5000-9999' '1000-4999' '10/49' '100-500' '10000+'\n",
      " '500-999']\n",
      "['Pvt Ltd' 'Funded Startup' 'Early Stage Startup' 'Public Sector' 'NGO'\n",
      " 'Other']\n",
      "['>4' '4' '1' '3' '2' 'never']\n",
      "[ 47   8  18  46 108  23  68  50  65  40 141  82 145 206  42  14   7  87\n",
      "  52  21 102  26  45  25  48 142  13  28  29  35   4  12  86  83  33  27\n",
      "  24  20 160   3   2 210  36 101  19  59 260  74 131 109  70  17  51  60\n",
      " 133  76  34  15  49   6 125  55  32  11  41 114 246  22  81  31  84  72\n",
      " 152  38 178  39 104  88  62  37 162 190   5  44  30  96  94 113  56  64\n",
      " 320 166 110  97 204 116 107 140  75 143 182 124  53 106  58  98 161  67\n",
      "  16 112  61  80  95  78  90 120 314 146  43 226  54 234 163   9 151  85\n",
      "  91 168 218 100 198 144 128  77 326  57 290 123 188 156 103 135 138  66\n",
      "  89 118 136 172 127 154 216 105 122 276 121  10 155 130 202 284  71  69\n",
      " 250 111  73 258 330 158 167 222 126 149 240 165 139 312  92 196 174 262\n",
      " 328 192 212 176 148 164 232 228 147 298  99 242 316  79 292 332 248 153\n",
      " 170  63 280 308 220 184 334 324 134 119 238 129 266 304 300 268 180 244\n",
      " 150 224 157 117 336 200 236 278 302 288 256 194 214 132   1 322 264 270\n",
      " 306 286 294 282 272 310 254]\n",
      "[0. 1.]\n"
     ]
    }
   ],
   "source": [
    "#Show all the different unique values in every column so we can get an \n",
    "#understanding of what needs to be encoded\n",
    "for col in df_train:\n",
    "    print(df_train[col].unique())"
   ]
  },
  {
   "cell_type": "code",
   "execution_count": 182,
   "metadata": {},
   "outputs": [],
   "source": [
    "#Pick out our object data types, confirmed by the above sample that need to be encoded\n",
    "le = LabelEncoder()\n",
    "df_train['gender'] = le.fit_transform(df_train['gender'])\n",
    "df_train['relevent_experience'] = le.fit_transform(df_train['relevent_experience'])\n",
    "df_train['enrolled_university'] = le.fit_transform(df_train['enrolled_university'])\n",
    "df_train['education_level'] = le.fit_transform(df_train['education_level'])\n",
    "df_train['major_discipline'] = le.fit_transform(df_train['major_discipline'])\n",
    "df_train['experience'] = le.fit_transform(df_train['experience'])\n",
    "df_train['company_size'] = le.fit_transform(df_train['company_size'])\n",
    "df_train['company_type'] = le.fit_transform(df_train['company_type'])\n",
    "df_train['last_new_job'] = le.fit_transform(df_train['last_new_job'])\n",
    "df_test['gender'] = le.fit_transform(df_test['gender'])\n",
    "df_test['relevent_experience'] = le.fit_transform(df_test['relevent_experience'])\n",
    "df_test['enrolled_university'] = le.fit_transform(df_test['enrolled_university'])\n",
    "df_test['education_level'] = le.fit_transform(df_test['education_level'])\n",
    "df_test['major_discipline'] = le.fit_transform(df_test['major_discipline'])\n",
    "df_test['experience'] = le.fit_transform(df_test['experience'])\n",
    "df_test['company_size'] = le.fit_transform(df_test['company_size'])\n",
    "df_test['company_type'] = le.fit_transform(df_test['company_type'])\n",
    "df_test['last_new_job'] = le.fit_transform(df_test['last_new_job'])"
   ]
  },
  {
   "cell_type": "code",
   "execution_count": 183,
   "metadata": {},
   "outputs": [
    {
     "data": {
      "text/html": [
       "<div>\n",
       "<style scoped>\n",
       "    .dataframe tbody tr th:only-of-type {\n",
       "        vertical-align: middle;\n",
       "    }\n",
       "\n",
       "    .dataframe tbody tr th {\n",
       "        vertical-align: top;\n",
       "    }\n",
       "\n",
       "    .dataframe thead th {\n",
       "        text-align: right;\n",
       "    }\n",
       "</style>\n",
       "<table border=\"1\" class=\"dataframe\">\n",
       "  <thead>\n",
       "    <tr style=\"text-align: right;\">\n",
       "      <th></th>\n",
       "      <th>enrollee_id</th>\n",
       "      <th>city</th>\n",
       "      <th>city_development_index</th>\n",
       "      <th>gender</th>\n",
       "      <th>relevent_experience</th>\n",
       "      <th>enrolled_university</th>\n",
       "      <th>education_level</th>\n",
       "      <th>major_discipline</th>\n",
       "      <th>experience</th>\n",
       "      <th>company_size</th>\n",
       "      <th>company_type</th>\n",
       "      <th>last_new_job</th>\n",
       "      <th>training_hours</th>\n",
       "    </tr>\n",
       "  </thead>\n",
       "  <tbody>\n",
       "    <tr>\n",
       "      <th>3</th>\n",
       "      <td>27385</td>\n",
       "      <td>city_13</td>\n",
       "      <td>0.827</td>\n",
       "      <td>1</td>\n",
       "      <td>0</td>\n",
       "      <td>2</td>\n",
       "      <td>1</td>\n",
       "      <td>5</td>\n",
       "      <td>2</td>\n",
       "      <td>0</td>\n",
       "      <td>5</td>\n",
       "      <td>0</td>\n",
       "      <td>39</td>\n",
       "    </tr>\n",
       "    <tr>\n",
       "      <th>4</th>\n",
       "      <td>27724</td>\n",
       "      <td>city_103</td>\n",
       "      <td>0.920</td>\n",
       "      <td>1</td>\n",
       "      <td>0</td>\n",
       "      <td>2</td>\n",
       "      <td>0</td>\n",
       "      <td>5</td>\n",
       "      <td>21</td>\n",
       "      <td>3</td>\n",
       "      <td>5</td>\n",
       "      <td>4</td>\n",
       "      <td>72</td>\n",
       "    </tr>\n",
       "    <tr>\n",
       "      <th>11</th>\n",
       "      <td>9272</td>\n",
       "      <td>city_90</td>\n",
       "      <td>0.698</td>\n",
       "      <td>1</td>\n",
       "      <td>0</td>\n",
       "      <td>2</td>\n",
       "      <td>0</td>\n",
       "      <td>5</td>\n",
       "      <td>12</td>\n",
       "      <td>0</td>\n",
       "      <td>5</td>\n",
       "      <td>1</td>\n",
       "      <td>51</td>\n",
       "    </tr>\n",
       "    <tr>\n",
       "      <th>12</th>\n",
       "      <td>14249</td>\n",
       "      <td>city_46</td>\n",
       "      <td>0.762</td>\n",
       "      <td>1</td>\n",
       "      <td>0</td>\n",
       "      <td>2</td>\n",
       "      <td>0</td>\n",
       "      <td>5</td>\n",
       "      <td>18</td>\n",
       "      <td>1</td>\n",
       "      <td>3</td>\n",
       "      <td>5</td>\n",
       "      <td>48</td>\n",
       "    </tr>\n",
       "    <tr>\n",
       "      <th>16</th>\n",
       "      <td>7865</td>\n",
       "      <td>city_21</td>\n",
       "      <td>0.624</td>\n",
       "      <td>1</td>\n",
       "      <td>0</td>\n",
       "      <td>2</td>\n",
       "      <td>1</td>\n",
       "      <td>5</td>\n",
       "      <td>14</td>\n",
       "      <td>1</td>\n",
       "      <td>5</td>\n",
       "      <td>0</td>\n",
       "      <td>4</td>\n",
       "    </tr>\n",
       "  </tbody>\n",
       "</table>\n",
       "</div>"
      ],
      "text/plain": [
       "    enrollee_id      city  city_development_index  gender  \\\n",
       "3         27385   city_13                   0.827       1   \n",
       "4         27724  city_103                   0.920       1   \n",
       "11         9272   city_90                   0.698       1   \n",
       "12        14249   city_46                   0.762       1   \n",
       "16         7865   city_21                   0.624       1   \n",
       "\n",
       "    relevent_experience  enrolled_university  education_level  \\\n",
       "3                     0                    2                1   \n",
       "4                     0                    2                0   \n",
       "11                    0                    2                0   \n",
       "12                    0                    2                0   \n",
       "16                    0                    2                1   \n",
       "\n",
       "    major_discipline  experience  company_size  company_type  last_new_job  \\\n",
       "3                  5           2             0             5             0   \n",
       "4                  5          21             3             5             4   \n",
       "11                 5          12             0             5             1   \n",
       "12                 5          18             1             3             5   \n",
       "16                 5          14             1             5             0   \n",
       "\n",
       "    training_hours  \n",
       "3               39  \n",
       "4               72  \n",
       "11              51  \n",
       "12              48  \n",
       "16               4  "
      ]
     },
     "execution_count": 183,
     "metadata": {},
     "output_type": "execute_result"
    }
   ],
   "source": [
    "#We can see our encoding worked nicely, giving each unique categorical a numeric number\n",
    "df_test.head(5)"
   ]
  },
  {
   "cell_type": "code",
   "execution_count": 184,
   "metadata": {},
   "outputs": [
    {
     "data": {
      "text/plain": [
       "enrollee_id                 int64\n",
       "city                       object\n",
       "city_development_index    float64\n",
       "gender                      int32\n",
       "relevent_experience         int32\n",
       "enrolled_university         int32\n",
       "education_level             int32\n",
       "major_discipline            int32\n",
       "experience                  int32\n",
       "company_size                int32\n",
       "company_type                int32\n",
       "last_new_job                int32\n",
       "training_hours              int64\n",
       "dtype: object"
      ]
     },
     "execution_count": 184,
     "metadata": {},
     "output_type": "execute_result"
    }
   ],
   "source": [
    "#This looks good as we dont have any objects in our label file left, our models will be able to handle numeric data much better\n",
    "df_test.dtypes"
   ]
  },
  {
   "cell_type": "markdown",
   "metadata": {},
   "source": [
    "**c. Test train split** <br>"
   ]
  },
  {
   "cell_type": "markdown",
   "metadata": {},
   "source": [
    "**i. Raw data without an imbalance resolution** <br>"
   ]
  },
  {
   "cell_type": "code",
   "execution_count": 215,
   "metadata": {},
   "outputs": [],
   "source": [
    "#we are going to split the train data set given down into test train split\n",
    "#the test data set given to us without target will be used to score on later on\n",
    "test = df_test.copy()\n",
    "train = df_train.copy()\n",
    "\n",
    "def to_xy(df):\n",
    "    df = df.drop(['enrollee_id','city'],axis=1)\n",
    "    x = df.drop(['target'], axis=1)\n",
    "    y = df['target']\n",
    "    X_train, X_test, y_train, y_test = train_test_split(x, y, test_size=0.33, random_state=42)\n",
    "    return X_train, X_test, y_train, y_test"
   ]
  },
  {
   "cell_type": "code",
   "execution_count": 216,
   "metadata": {},
   "outputs": [],
   "source": [
    "X_train, X_test, y_train, y_test = to_xy(train)"
   ]
  },
  {
   "cell_type": "code",
   "execution_count": 218,
   "metadata": {},
   "outputs": [
    {
     "name": "stdout",
     "output_type": "stream",
     "text": [
      "(5999, 11)\n",
      "(2956, 11)\n",
      "city_development_index    float64\n",
      "gender                      int32\n",
      "relevent_experience         int32\n",
      "enrolled_university         int32\n",
      "education_level             int32\n",
      "major_discipline            int32\n",
      "experience                  int32\n",
      "company_size                int32\n",
      "company_type                int32\n",
      "last_new_job                int32\n",
      "training_hours              int64\n",
      "dtype: object\n",
      "(5999,)\n",
      "(2956,)\n"
     ]
    }
   ],
   "source": [
    "print(X_train.shape)\n",
    "print(X_test.shape)\n",
    "print(X_test.dtypes)\n",
    "print(y_train.shape)\n",
    "print(y_test.shape)"
   ]
  },
  {
   "cell_type": "markdown",
   "metadata": {},
   "source": [
    "**ii. Resolve imbalance with Smote - Synthetic Minority Oversampling Technique**<br>\n",
    "We learnt above between our targets our 0's highly outweigh our 1's. This is common in datasets as our 1's can be a smaller population of unique attributes. We can solver this by either over or under sampling the populations: <br>\n",
    "* Undersampling would decrease the proportion of your majority class until the number is similar to the minority class.\n",
    "* Oversampling would resample the minority class proportion following the majority class proportion. e.g. SMOTE, repetition or bootstrapping."
   ]
  },
  {
   "cell_type": "code",
   "execution_count": 230,
   "metadata": {},
   "outputs": [],
   "source": [
    "#We can make a copy of this dataset without the primary keys of id and city as these aren't features\n",
    "test = df_test.copy()\n",
    "train = df_train.copy()\n",
    "test = test.drop(['enrollee_id','city'],axis=1)\n",
    "train = train.drop(['enrollee_id','city'],axis=1)"
   ]
  },
  {
   "cell_type": "markdown",
   "metadata": {},
   "source": [
    "**i. Smote - Synthetic Minority Oversampling Technique** <br>\n",
    "The SMOTE algorithm can be broken down into four steps: <br>\n",
    "\n",
    "* Randomly pick a point from the minority class.\n",
    "* Compute the k-nearest neighbors (for some pre-specified k) for this point.\n",
    "* Add k new points somewhere between the chosen point and each of its neighbors."
   ]
  },
  {
   "cell_type": "code",
   "execution_count": 231,
   "metadata": {},
   "outputs": [],
   "source": [
    "#Seperate the target column from the training dataset and place them into their\n",
    "#respective x and y so we can apply the technique to them\n",
    "\n",
    "def smote():\n",
    "    X=train.drop(columns=['target']).values #we remove the target off our file and place it into its own variable\n",
    "    y=train['target'].values\n",
    "    print('Before resampled dataset shape %s' % Counter(y))\n",
    "    \n",
    "    #Apply smote then create our test and train split\n",
    "    smote = SMOTE(random_state=0)\n",
    "    X, y = smote.fit_sample(X, y) #fit our smote to the x and y\n",
    "    X_train, X_test, y_train, y_test = train_test_split(X, y, test_size=0.33, random_state=2)\n",
    "    print('Resampled dataset shape %s' % Counter(y))\n",
    "    \n",
    "    #Convert x and y back to dataframe from the numpy array output of smote\n",
    "    X = pd.DataFrame(X, columns = ['city_development_index', 'gender', 'relevent_experience',\n",
    "       'enrolled_university', 'education_level', 'major_discipline',\n",
    "       'experience', 'company_size', 'company_type', 'last_new_job',\n",
    "       'training_hours'])\n",
    "    df_y = pd.DataFrame(y, columns = ['target'])\n",
    "    \n",
    "    df_oversampler_concat = pd.merge(X, df_y, left_index=True, right_index=True)\n",
    "    \n",
    "    X_train, X_test, y_train, y_test = train_test_split(X, y, test_size=0.33, random_state=2)\n",
    "    print('Resampled dataset shape %s' % Counter(y))\n",
    "    \n",
    "    #plot the new dataframe with the over sampled target\n",
    "    #let's understand the different behaviour of 0 and 1's to different features\n",
    "   \n",
    "    cols_to_plot = ['city_development_index','major_discipline']\n",
    "    \n",
    "    fig, ax = plt.subplots(nrows=len(cols_to_plot), ncols=1, figsize=(8,8))\n",
    "    for i, col in enumerate(cols_to_plot):\n",
    "        plt.subplot(ax[i])\n",
    "        sns.scatterplot(x=df_oversampler_concat[col], y=df_oversampler_concat['target'], hue = df_oversampler_concat['target'])\n",
    "        plt.ylabel(col)\n",
    "        plt.tight_layout()\n",
    "\n",
    "    return X_train, X_test, y_train, y_test, df_oversampler"
   ]
  },
  {
   "cell_type": "code",
   "execution_count": 232,
   "metadata": {},
   "outputs": [
    {
     "name": "stdout",
     "output_type": "stream",
     "text": [
      "Before resampled dataset shape Counter({0.0: 7472, 1.0: 1483})\n",
      "Resampled dataset shape Counter({0.0: 7472, 1.0: 7472})\n",
      "Resampled dataset shape Counter({0.0: 7472, 1.0: 7472})\n"
     ]
    },
    {
     "data": {
      "image/png": "[encoded data removed]",
      "text/plain": [
       "<Figure size 576x576 with 2 Axes>"
      ]
     },
     "metadata": {},
     "output_type": "display_data"
    }
   ],
   "source": [
    "#Now even though the dots between orange and blue may be different, these scatterplots are just showing us the different\n",
    "#data points the 0 or 1 can have, not the total data points\n",
    "\n",
    "#City development index: shows that 1's have a larger range of cities, where 0's has less\n",
    "X_train, X_test, y_train, y_test, df_oversampler = smote()"
   ]
  },
  {
   "cell_type": "code",
   "execution_count": 233,
   "metadata": {},
   "outputs": [
    {
     "name": "stdout",
     "output_type": "stream",
     "text": [
      "(10012, 11)\n",
      "(4932, 11)\n",
      "city_development_index    float64\n",
      "gender                    float64\n",
      "relevent_experience       float64\n",
      "enrolled_university       float64\n",
      "education_level           float64\n",
      "major_discipline          float64\n",
      "experience                float64\n",
      "company_size              float64\n",
      "company_type              float64\n",
      "last_new_job              float64\n",
      "training_hours            float64\n",
      "dtype: object\n",
      "(10012,)\n",
      "(4932,)\n"
     ]
    }
   ],
   "source": [
    "print(X_train.shape)\n",
    "print(X_test.shape)\n",
    "print(X_test.dtypes)\n",
    "print(y_train.shape)\n",
    "print(y_test.shape)"
   ]
  },
  {
   "cell_type": "markdown",
   "metadata": {},
   "source": [
    "## 2. Model"
   ]
  },
  {
   "cell_type": "markdown",
   "metadata": {},
   "source": [
    "Play around with a few different models, tune different hyperparametres to see which one works well"
   ]
  },
  {
   "cell_type": "markdown",
   "metadata": {},
   "source": [
    "### a. Logistic Regression\n",
    "Logistic regression models the probabilities for classification problems with two possible outcomes, 0 or 1. It uses logarithm of the odds for the value labelled as 1 to calculate the probabilities and predict the occurance of the event being this label. Logistic regression is statistical, relatively fast and uncomplicated for binary classification problems. "
   ]
  },
  {
   "cell_type": "markdown",
   "metadata": {},
   "source": [
    "**a. i. Train the model**"
   ]
  },
  {
   "cell_type": "code",
   "execution_count": 265,
   "metadata": {},
   "outputs": [
    {
     "data": {
      "text/plain": [
       "LogisticRegression(max_iter=10000)"
      ]
     },
     "execution_count": 265,
     "metadata": {},
     "output_type": "execute_result"
    }
   ],
   "source": [
    "#basic logistic regression model\n",
    "logistic = LogisticRegression(max_iter=10000) #max_iter increased due to convergence warning\n",
    "logistic.fit(X_train,y_train)"
   ]
  },
  {
   "cell_type": "markdown",
   "metadata": {},
   "source": [
    "**a. ii. Score the model**"
   ]
  },
  {
   "cell_type": "code",
   "execution_count": 269,
   "metadata": {},
   "outputs": [],
   "source": [
    "#the probabilities for each row\n",
    "y_prob_logistic = logistic.predict_proba(X_test)"
   ]
  },
  {
   "cell_type": "code",
   "execution_count": 270,
   "metadata": {},
   "outputs": [
    {
     "data": {
      "text/plain": [
       "array([[0.47760923, 0.52239077],\n",
       "       [0.18986294, 0.81013706],\n",
       "       [0.72076557, 0.27923443],\n",
       "       ...,\n",
       "       [0.12805055, 0.87194945],\n",
       "       [0.10009303, 0.89990697],\n",
       "       [0.74458431, 0.25541569]])"
      ]
     },
     "execution_count": 270,
     "metadata": {},
     "output_type": "execute_result"
    }
   ],
   "source": [
    "y_prob_logistic"
   ]
  },
  {
   "cell_type": "code",
   "execution_count": 271,
   "metadata": {},
   "outputs": [
    {
     "data": {
      "text/plain": [
       "(0.0, 1.0)"
      ]
     },
     "execution_count": 271,
     "metadata": {},
     "output_type": "execute_result"
    },
    {
     "data": {
      "image/png": "[encoded data removed]",
      "text/plain": [
       "<Figure size 576x396 with 1 Axes>"
      ]
     },
     "metadata": {},
     "output_type": "display_data"
    }
   ],
   "source": [
    "#the default threshold for a prediction is 0.5, however if we plot the relationship between the precision, recall\n",
    "#and the threshold we can continue to manage any left over imbalances from smote by adjusting the threshold\n",
    "\n",
    "precision, recall, thresholds = precision_recall_curve(y_test, y_prob_logistic[:, 1]) \n",
    "\n",
    "#retrieve probability of being 1(in second column of probs_y)\n",
    "pr_auc = metrics.auc(recall, precision)\n",
    "\n",
    "plt.title(\"Precision-Recall vs Threshold Chart\")\n",
    "plt.plot(thresholds, precision[: -1], \"b--\", label=\"Precision\")\n",
    "plt.plot(thresholds, recall[: -1], \"r--\", label=\"Recall\")\n",
    "plt.ylabel(\"Precision, Recall\")\n",
    "plt.xlabel(\"Threshold\")\n",
    "plt.legend(loc=\"lower left\")\n",
    "plt.ylim([0,1])"
   ]
  },
  {
   "cell_type": "code",
   "execution_count": 272,
   "metadata": {},
   "outputs": [],
   "source": [
    "#the predictions for each row based on the 0.39 tr from the above viz\n",
    "y_pred_logistic = (logistic.predict_proba(X_test)[:,1]>= 0.39).astype(bool)"
   ]
  },
  {
   "cell_type": "code",
   "execution_count": 273,
   "metadata": {},
   "outputs": [
    {
     "data": {
      "text/plain": [
       "array([ True,  True, False, ...,  True,  True, False])"
      ]
     },
     "execution_count": 273,
     "metadata": {},
     "output_type": "execute_result"
    }
   ],
   "source": [
    "y_pred_logistic"
   ]
  },
  {
   "cell_type": "markdown",
   "metadata": {},
   "source": [
    "**a. iii. Performance metrics**"
   ]
  },
  {
   "cell_type": "markdown",
   "metadata": {},
   "source": [
    "**Accuracy**<br>\n",
    "Accuracy = (TP+TN)/(TP+FP+FN+TN)<br>\n",
    "Accuracy is a valid choice of evaluation for classification problems which are well balanced and not skewed or No class imbalance. We know we had an imbalanced dataset which was fixed in pre-processing so this score would be higher if performed on an un-preproccessed dataset"
   ]
  },
  {
   "cell_type": "code",
   "execution_count": 266,
   "metadata": {},
   "outputs": [
    {
     "name": "stdout",
     "output_type": "stream",
     "text": [
      "Accuracy on test set is :  0.74\n"
     ]
    }
   ],
   "source": [
    "#Accuracy or AUC calc\n",
    "# Use score method to get accuracy of model\n",
    "score = logistic.score(X_test,y_test)\n",
    "print('Accuracy on test set is : ',round(score, 2))"
   ]
  },
  {
   "cell_type": "markdown",
   "metadata": {},
   "source": [
    "**Confusion Matrix**<br>\n",
    "A table that clearly identifies the counts of True Positives, False Positives, False Negatives and True Negatives. From these raw numbers we can calculate further metrics to grasp the strengths and weaknesses of the model."
   ]
  },
  {
   "cell_type": "code",
   "execution_count": 268,
   "metadata": {},
   "outputs": [
    {
     "name": "stdout",
     "output_type": "stream",
     "text": [
      "True Positive: 1977, False Positive: 477, False Negative: 819, True Negative 477\n"
     ]
    }
   ],
   "source": [
    "#Make predictions on entire test data\n",
    "predictions = logistic.predict(X_test) \n",
    "\n",
    "#Prepare a confusion matrix from the predictions on the entire data set\n",
    "#Confusion matrix positionings: https://glassboxmedicine.files.wordpress.com/2019/02/confusion-matrix.png?w=816\n",
    "cm = metrics.confusion_matrix(y_test, predictions)\n",
    "tp = cm[0][0]\n",
    "fp = cm[0][1]\n",
    "fn = cm[1][0]\n",
    "tn = cm[0][1]\n",
    "print('True Positive: %.f, False Positive: %.f, False Negative: %.f, True Negative %.f' % (tp, fp, fn, tn))"
   ]
  },
  {
   "cell_type": "code",
   "execution_count": 40,
   "metadata": {},
   "outputs": [
    {
     "data": {
      "image/png": "[encoded data removed]",
      "text/plain": [
       "<Figure size 360x360 with 2 Axes>"
      ]
     },
     "metadata": {
      "needs_background": "light"
     },
     "output_type": "display_data"
    }
   ],
   "source": [
    "#Annotate all of our information into a plot\n",
    "plt.figure(figsize=(5,5))\n",
    "sns.heatmap(cm, annot=True, fmt=\".0f\", linewidths=.5, square = True, cmap = 'Blues_r');\n",
    "plt.ylabel('Actual label');\n",
    "plt.xlabel('Predicted label');\n",
    "all_sample_title = 'Accuracy Score: {0}'.format(round(score, 2))\n",
    "plt.title(all_sample_title, size = 15);"
   ]
  },
  {
   "cell_type": "markdown",
   "metadata": {},
   "source": [
    "**Area under the curve (ROC)** <br>\n",
    "A ROC curve is constructed by plotting the true positive rate (TPR) against the false positive rate (FPR). The true positive rate is the proportion of observations that were correctly predicted to be positive out of all positive observations (TP/(TP + FN)). \n",
    "\n",
    "*Interpretation* <br>\n",
    "Curves closer to the top left of the graph, indicate a better performance. Closer the curve comes along the red dotted line, the less accurate the test. We see below that we did well, there may be some room for improvement for our 477 false positives and 819 false negatives."
   ]
  },
  {
   "cell_type": "code",
   "execution_count": 41,
   "metadata": {},
   "outputs": [
    {
     "data": {
      "image/png": "[encoded data removed]",
      "text/plain": [
       "<Figure size 432x288 with 1 Axes>"
      ]
     },
     "metadata": {
      "needs_background": "light"
     },
     "output_type": "display_data"
    }
   ],
   "source": [
    "#Area under the curve\n",
    "fpr, tpr, threshold = metrics.roc_curve(y_test, predictions)\n",
    "roc_auc = metrics.auc(fpr, tpr)\n",
    "\n",
    "plt.title('Receiver Operating Characteristic')\n",
    "plt.plot(fpr, tpr, 'b', label = 'AUC = %0.2f' % roc_auc)\n",
    "plt.legend(loc = 'lower right')\n",
    "plt.plot([0, 1], [0, 1],'r--')\n",
    "plt.xlim([0, 1])\n",
    "plt.ylim([0, 1])\n",
    "plt.ylabel('True Positive Rate')\n",
    "plt.xlabel('False Positive Rate')\n",
    "plt.show()"
   ]
  },
  {
   "cell_type": "markdown",
   "metadata": {},
   "source": [
    "**GINI Coefficient** <br>\n",
    "The gini measures inequality among values of a variable and the overall performance of the classifier. It is good when used on imbalanced datasets, a score closer to 1 would be better but depending on the classifier there will be limitations on how close to 1 it can get. We could do better here, 49% is average."
   ]
  },
  {
   "cell_type": "code",
   "execution_count": 275,
   "metadata": {},
   "outputs": [
    {
     "name": "stdout",
     "output_type": "stream",
     "text": [
      "\n",
      " Classification report:\n",
      "               precision    recall  f1-score   support\n",
      "\n",
      "         0.0       0.74      0.74      0.74      2454\n",
      "         1.0       0.75      0.75      0.75      2478\n",
      "\n",
      "    accuracy                           0.75      4932\n",
      "   macro avg       0.75      0.75      0.75      4932\n",
      "weighted avg       0.75      0.75      0.75      4932\n",
      "\n",
      "\n",
      " GINI :\n",
      " 0.4906571471985255\n",
      "\n",
      " Precision:\n",
      " 0.7463709677419355\n",
      "\n",
      " Recall:\n",
      " 0.7469733656174334\n",
      "\n",
      " F1 score:\n",
      " 0.7466720451795078\n",
      "\n",
      " Cohen Kappa Score:\n",
      " 0.4906590836883743\n"
     ]
    }
   ],
   "source": [
    "#print metrics\n",
    "print('\\n Classification report:\\n', classification_report(y_test, y_pred_logistic))\n",
    "print('\\n GINI :\\n', 2* roc_auc_score(y_test, y_pred_logistic) -1)\n",
    "print('\\n Precision:\\n', precision_score(y_test, y_pred_logistic))\n",
    "print('\\n Recall:\\n', recall_score(y_test, y_pred_logistic))\n",
    "print('\\n F1 score:\\n', f1_score(y_test, y_pred_logistic))\n",
    "print('\\n Cohen Kappa Score:\\n', cohen_kappa_score(y_test, y_pred_logistic))"
   ]
  },
  {
   "cell_type": "markdown",
   "metadata": {},
   "source": [
    "**Feature Importance**"
   ]
  },
  {
   "cell_type": "code",
   "execution_count": 308,
   "metadata": {},
   "outputs": [],
   "source": [
    "logistic_coefs = np.abs(logistic.coef_[0])\n",
    "logistic_indices = np.argsort(logistic_coefs)[::-1]"
   ]
  },
  {
   "cell_type": "code",
   "execution_count": 316,
   "metadata": {},
   "outputs": [
    {
     "data": {
      "image/png": "[encoded data removed]",
      "text/plain": [
       "<Figure size 576x396 with 1 Axes>"
      ]
     },
     "metadata": {},
     "output_type": "display_data"
    }
   ],
   "source": [
    "plt.figure()\n",
    "plt.title(\"Feature importances (Logistic Regression)\")\n",
    "plt.bar(range(10), logistic_coefs[logistic_indices[:10]], align=\"center\")\n",
    "plt.xticks(range(10), X_train.columns[logistic_indices[:10]], rotation=45, ha='right')\n",
    "plt.subplots_adjust(bottom=0.3)"
   ]
  },
  {
   "cell_type": "markdown",
   "metadata": {},
   "source": [
    "### b. Random Forest"
   ]
  },
  {
   "cell_type": "markdown",
   "metadata": {},
   "source": [
    "**b. i. Train the model**"
   ]
  },
  {
   "cell_type": "code",
   "execution_count": 283,
   "metadata": {},
   "outputs": [
    {
     "name": "stdout",
     "output_type": "stream",
     "text": [
      "size 40 , depth: 8 acc: 0.8521783617409705\n",
      "size 60 , depth: 8 acc: 0.8511792809814537\n",
      "size 80 , depth: 8 acc: 0.8503804592659279\n",
      "best size 40 , best depth: 8 best acc 0.8521783617409705\n",
      "size 40 , depth: 9 acc: 0.858370890881624\n",
      "size 60 , depth: 9 acc: 0.8592699618197095\n",
      "size 80 , depth: 9 acc: 0.8591701913994066\n",
      "best size 60 , best depth: 9 best acc 0.8592699618197095\n",
      "size 40 , depth: 10 acc: 0.8664612126181871\n",
      "size 60 , depth: 10 acc: 0.8662612229004655\n",
      "size 80 , depth: 10 acc: 0.8672604532856877\n",
      "best size 80 , best depth: 10 best acc 0.8672604532856877\n"
     ]
    }
   ],
   "source": [
    "#lets do some hyperparameter tuning of a random forest, by for looping through and finding the bst depth and size of our trees\n",
    "best_acc = 0.0\n",
    "best_size = 0\n",
    "best_depth = 0\n",
    "\n",
    "for depth in [8,9,10]:\n",
    "    for size in [40,60,80]:\n",
    "        clf = RandomForestClassifier(n_estimators=size, max_depth=depth, n_jobs=6)\n",
    "        scores = cross_val_score(clf, X_train, y_train, cv=3)\n",
    "        acc = scores.mean()\n",
    "        print (\"size\", size, \", depth:\", depth, \"acc:\", acc)\n",
    "        if acc > best_acc:\n",
    "            best_acc = acc\n",
    "            best_size = size\n",
    "            best_depth = depth\n",
    "    print (\"best size\", best_size, \", best depth:\", best_depth, \"best acc\", best_acc)\n",
    "    clf = RandomForestClassifier(n_estimators=best_size, max_depth=best_depth, n_jobs=6)\n",
    "    clf.fit(X_train,y_train)"
   ]
  },
  {
   "cell_type": "markdown",
   "metadata": {},
   "source": [
    "**b. ii. Feature Importance**"
   ]
  },
  {
   "cell_type": "code",
   "execution_count": 285,
   "metadata": {},
   "outputs": [],
   "source": [
    "#turn x_train from array to df\n",
    "df = pd.DataFrame(X_train, columns = ['city_development_index', 'gender', 'relevent_experience',\n",
    "       'enrolled_university', 'education_level', 'major_discipline',\n",
    "       'experience', 'company_size', 'company_type', 'last_new_job',\n",
    "       'training_hours'])"
   ]
  },
  {
   "cell_type": "code",
   "execution_count": 307,
   "metadata": {},
   "outputs": [
    {
     "data": {
      "text/plain": [
       "<matplotlib.axes._subplots.AxesSubplot at 0x25abf82bca0>"
      ]
     },
     "execution_count": 307,
     "metadata": {},
     "output_type": "execute_result"
    },
    {
     "data": {
      "image/png": "[encoded data removed]",
      "text/plain": [
       "<Figure size 576x396 with 1 Axes>"
      ]
     },
     "metadata": {},
     "output_type": "display_data"
    }
   ],
   "source": [
    "#Now use our dataframe and line it up with the importances determined by our random forest\n",
    "\n",
    "#We learn here, the features that have a strong influence on our candiate looking for a new job would be their\n",
    "#city which makes sense as you move cities you would like to work close by, if the candiate takes further education\n",
    "#they may want to allign their career to that and as experience increases they may feel confident to embark into other roles.\n",
    "\n",
    "#Objective recap:\n",
    "#To predict the probability of a candidate to look for a new job or will work for the company, as well as interpreting affected factors on employee decision.\n",
    "\n",
    "importances = pd.DataFrame({'feature':df.columns,'importance':np.round(clf.feature_importances_,3)})\n",
    "importances.sort_values(by=['importance'], ascending=True).plot.barh(x='feature', y='importance')"
   ]
  },
  {
   "cell_type": "markdown",
   "metadata": {},
   "source": [
    "### c. Light GBM"
   ]
  },
  {
   "cell_type": "markdown",
   "metadata": {},
   "source": [
    "**c. i. Train the model**"
   ]
  },
  {
   "cell_type": "code",
   "execution_count": 234,
   "metadata": {},
   "outputs": [
    {
     "data": {
      "text/plain": [
       "Pipeline(steps=[('encoder', OrdinalEncoder()),\n",
       "                ('classifier', LGBMClassifier(random_state=42))],\n",
       "         verbose=True)"
      ]
     },
     "execution_count": 234,
     "metadata": {},
     "output_type": "execute_result"
    }
   ],
   "source": [
    "model = Pipeline( \n",
    "    steps=[\n",
    "        ('encoder', OrdinalEncoder()),\n",
    "        ('classifier', lgb.LGBMClassifier(random_state=42, n_jobs=-1))\n",
    "\n",
    "        ],\n",
    "    verbose=True\n",
    ")\n",
    "\n",
    "model"
   ]
  },
  {
   "cell_type": "code",
   "execution_count": 235,
   "metadata": {},
   "outputs": [
    {
     "name": "stderr",
     "output_type": "stream",
     "text": [
      "[Parallel(n_jobs=1)]: Using backend SequentialBackend with 1 concurrent workers.\n"
     ]
    },
    {
     "name": "stdout",
     "output_type": "stream",
     "text": [
      "[Pipeline] ........... (step 1 of 2) Processing encoder, total=   0.0s\n",
      "[Pipeline] ........ (step 2 of 2) Processing classifier, total=   0.1s\n",
      "[Pipeline] ........... (step 1 of 2) Processing encoder, total=   0.0s\n",
      "[Pipeline] ........ (step 2 of 2) Processing classifier, total=   0.1s\n",
      "[Pipeline] ........... (step 1 of 2) Processing encoder, total=   0.0s\n",
      "[Pipeline] ........ (step 2 of 2) Processing classifier, total=   0.1s\n",
      "[Pipeline] ........... (step 1 of 2) Processing encoder, total=   0.0s\n",
      "[Pipeline] ........ (step 2 of 2) Processing classifier, total=   0.1s\n",
      "[Pipeline] ........... (step 1 of 2) Processing encoder, total=   0.0s\n",
      "[Pipeline] ........ (step 2 of 2) Processing classifier, total=   0.1s\n",
      "Wall time: 734 ms\n"
     ]
    },
    {
     "name": "stderr",
     "output_type": "stream",
     "text": [
      "[Parallel(n_jobs=1)]: Done   5 out of   5 | elapsed:    0.6s finished\n"
     ]
    },
    {
     "data": {
      "text/plain": [
       "array([0.93098376, 0.94543154, 0.9535046 , 0.95321581, 0.95589507])"
      ]
     },
     "execution_count": 235,
     "metadata": {},
     "output_type": "execute_result"
    }
   ],
   "source": [
    "%%time \n",
    "#X_train, X_test, y_train, y_test,\n",
    "cross_val_score(\n",
    "    estimator=model,\n",
    "    X=X_train,\n",
    "    y=y_train,\n",
    "    cv=TimeSeriesSplit(n_splits=5, max_train_size=None),\n",
    "    verbose=True,\n",
    "    scoring='roc_auc'\n",
    ")"
   ]
  },
  {
   "cell_type": "code",
   "execution_count": 236,
   "metadata": {},
   "outputs": [
    {
     "name": "stdout",
     "output_type": "stream",
     "text": [
      "[Pipeline] ........... (step 1 of 2) Processing encoder, total=   0.0s"
     ]
    },
    {
     "name": "stderr",
     "output_type": "stream",
     "text": [
      "Function safe_indexing is deprecated; safe_indexing is deprecated in version 0.22 and will be removed in version 0.24.\n"
     ]
    },
    {
     "name": "stdout",
     "output_type": "stream",
     "text": [
      "\n",
      "[Pipeline] ........ (step 2 of 2) Processing classifier, total=   0.1s\n",
      "[Pipeline] ........... (step 1 of 2) Processing encoder, total=   0.0s\n",
      "[Pipeline] ........ (step 2 of 2) Processing classifier, total=   0.1s\n",
      "[Pipeline] ........... (step 1 of 2) Processing encoder, total=   0.0s\n",
      "[Pipeline] ........ (step 2 of 2) Processing classifier, total=   0.1s\n",
      "[Pipeline] ........... (step 1 of 2) Processing encoder, total=   0.0s\n",
      "[Pipeline] ........ (step 2 of 2) Processing classifier, total=   0.1s\n",
      "[Pipeline] ........... (step 1 of 2) Processing encoder, total=   0.0s\n",
      "[Pipeline] ........ (step 2 of 2) Processing classifier, total=   0.1s\n"
     ]
    },
    {
     "data": {
      "image/png": "[encoded data removed]",
      "text/plain": [
       "<Figure size 576x396 with 1 Axes>"
      ]
     },
     "metadata": {},
     "output_type": "display_data"
    },
    {
     "data": {
      "text/plain": [
       "<matplotlib.axes._subplots.AxesSubplot at 0x25abe67c4f0>"
      ]
     },
     "execution_count": 236,
     "metadata": {},
     "output_type": "execute_result"
    }
   ],
   "source": [
    "visualizer_xgboost = DiscriminationThreshold(model, random_state=42, n_trials=1, verbose=1, cv=TimeSeriesSplit\n",
    "                                            (n_splits=5, max_train_size=None))\n",
    "visualizer_xgboost.fit(X_train, y_train)\n",
    "visualizer_xgboost.poof()"
   ]
  },
  {
   "cell_type": "code",
   "execution_count": 237,
   "metadata": {},
   "outputs": [
    {
     "name": "stdout",
     "output_type": "stream",
     "text": [
      "[Pipeline] ........... (step 1 of 2) Processing encoder, total=   0.0s\n",
      "[Pipeline] ........ (step 2 of 2) Processing classifier, total=   0.2s\n"
     ]
    },
    {
     "data": {
      "text/plain": [
       "Pipeline(steps=[('encoder', OrdinalEncoder(cols=[], mapping=[])),\n",
       "                ('classifier', LGBMClassifier(random_state=42))],\n",
       "         verbose=True)"
      ]
     },
     "execution_count": 237,
     "metadata": {},
     "output_type": "execute_result"
    }
   ],
   "source": [
    "model.fit(X=X_train, y=y_train)"
   ]
  },
  {
   "cell_type": "markdown",
   "metadata": {},
   "source": [
    "**c. ii. Score the model**"
   ]
  },
  {
   "cell_type": "code",
   "execution_count": 251,
   "metadata": {},
   "outputs": [],
   "source": [
    "#the predictions for each row based on the 0.39 tr from the above viz\n",
    "y_pred_bt = (model.predict_proba(X_test)[:,1]>= 0.39).astype(bool)"
   ]
  },
  {
   "cell_type": "code",
   "execution_count": 252,
   "metadata": {},
   "outputs": [],
   "source": [
    "#the probabilities for each row\n",
    "y_prob_bt = model.predict_proba(X_test)"
   ]
  },
  {
   "cell_type": "code",
   "execution_count": 253,
   "metadata": {},
   "outputs": [
    {
     "data": {
      "text/plain": [
       "array([False,  True, False, ...,  True,  True, False])"
      ]
     },
     "execution_count": 253,
     "metadata": {},
     "output_type": "execute_result"
    }
   ],
   "source": [
    "y_pred_bt"
   ]
  },
  {
   "cell_type": "code",
   "execution_count": 254,
   "metadata": {},
   "outputs": [
    {
     "data": {
      "text/plain": [
       "array([0.07681258, 0.92173302, 0.26890563, ..., 0.9958342 , 0.99810734,\n",
       "       0.07794503])"
      ]
     },
     "execution_count": 254,
     "metadata": {},
     "output_type": "execute_result"
    }
   ],
   "source": [
    "y_prob_bt[:, 1] #only the first column in the array"
   ]
  },
  {
   "cell_type": "code",
   "execution_count": 255,
   "metadata": {},
   "outputs": [],
   "source": [
    "#now join back the predictions to the dataframe as the score for each row\n",
    "test_data_scores = pd.DataFrame(data=y_pred_bt, columns=[\"Score\"])"
   ]
  },
  {
   "cell_type": "code",
   "execution_count": 256,
   "metadata": {},
   "outputs": [
    {
     "data": {
      "text/html": [
       "<div>\n",
       "<style scoped>\n",
       "    .dataframe tbody tr th:only-of-type {\n",
       "        vertical-align: middle;\n",
       "    }\n",
       "\n",
       "    .dataframe tbody tr th {\n",
       "        vertical-align: top;\n",
       "    }\n",
       "\n",
       "    .dataframe thead th {\n",
       "        text-align: right;\n",
       "    }\n",
       "</style>\n",
       "<table border=\"1\" class=\"dataframe\">\n",
       "  <thead>\n",
       "    <tr style=\"text-align: right;\">\n",
       "      <th></th>\n",
       "      <th>city_development_index</th>\n",
       "      <th>gender</th>\n",
       "      <th>relevent_experience</th>\n",
       "      <th>enrolled_university</th>\n",
       "      <th>education_level</th>\n",
       "      <th>major_discipline</th>\n",
       "      <th>experience</th>\n",
       "      <th>company_size</th>\n",
       "      <th>company_type</th>\n",
       "      <th>last_new_job</th>\n",
       "      <th>training_hours</th>\n",
       "      <th>Score</th>\n",
       "    </tr>\n",
       "  </thead>\n",
       "  <tbody>\n",
       "    <tr>\n",
       "      <th>4930</th>\n",
       "      <td>0.567069</td>\n",
       "      <td>1.0</td>\n",
       "      <td>0.0</td>\n",
       "      <td>0.837219</td>\n",
       "      <td>0.837219</td>\n",
       "      <td>5.0</td>\n",
       "      <td>11.0</td>\n",
       "      <td>3.162781</td>\n",
       "      <td>5.0</td>\n",
       "      <td>0.162781</td>\n",
       "      <td>68.837219</td>\n",
       "      <td>True</td>\n",
       "    </tr>\n",
       "    <tr>\n",
       "      <th>4931</th>\n",
       "      <td>0.910000</td>\n",
       "      <td>2.0</td>\n",
       "      <td>0.0</td>\n",
       "      <td>2.000000</td>\n",
       "      <td>0.000000</td>\n",
       "      <td>5.0</td>\n",
       "      <td>6.0</td>\n",
       "      <td>3.000000</td>\n",
       "      <td>5.0</td>\n",
       "      <td>0.000000</td>\n",
       "      <td>53.000000</td>\n",
       "      <td>False</td>\n",
       "    </tr>\n",
       "  </tbody>\n",
       "</table>\n",
       "</div>"
      ],
      "text/plain": [
       "      city_development_index  gender  relevent_experience  \\\n",
       "4930                0.567069     1.0                  0.0   \n",
       "4931                0.910000     2.0                  0.0   \n",
       "\n",
       "      enrolled_university  education_level  major_discipline  experience  \\\n",
       "4930             0.837219         0.837219               5.0        11.0   \n",
       "4931             2.000000         0.000000               5.0         6.0   \n",
       "\n",
       "      company_size  company_type  last_new_job  training_hours  Score  \n",
       "4930      3.162781           5.0      0.162781       68.837219   True  \n",
       "4931      3.000000           5.0      0.000000       53.000000  False  "
      ]
     },
     "execution_count": 256,
     "metadata": {},
     "output_type": "execute_result"
    }
   ],
   "source": [
    "test_data_scores_all = pd.concat([X_test.reset_index(drop=True), test_data_scores.reset_index(drop=True)], axis=1)\n",
    "test_data_scores_all.tail(2)"
   ]
  },
  {
   "cell_type": "code",
   "execution_count": 257,
   "metadata": {},
   "outputs": [
    {
     "data": {
      "text/plain": [
       "False    2501\n",
       "True     2431\n",
       "Name: Score, dtype: int64"
      ]
     },
     "execution_count": 257,
     "metadata": {},
     "output_type": "execute_result"
    }
   ],
   "source": [
    "#target out come break down, how many rows were predicted what\n",
    "test_data_scores_all[\"Score\"].value_counts()"
   ]
  },
  {
   "cell_type": "markdown",
   "metadata": {},
   "source": [
    "**c. ii. Performance metrics**"
   ]
  },
  {
   "cell_type": "code",
   "execution_count": 258,
   "metadata": {},
   "outputs": [
    {
     "data": {
      "image/png": "[encoded data removed]",
      "text/plain": [
       "<Figure size 720x432 with 1 Axes>"
      ]
     },
     "metadata": {},
     "output_type": "display_data"
    },
    {
     "data": {
      "text/plain": [
       "<matplotlib.axes._subplots.AxesSubplot at 0x25abe2e4d60>"
      ]
     },
     "execution_count": 258,
     "metadata": {},
     "output_type": "execute_result"
    }
   ],
   "source": [
    "#plot a roc curve to understand the relationship between TP and FP\n",
    "#accuracy is abit higher than expected\n",
    "plt.figure(figsize=(10,6))\n",
    "visualiser_roc_curve = ROCAUC(model, per_class=True, micro=False)\n",
    "visualiser_roc_curve.fit(X_train, y_train) #Fit the training data to the visualiser\n",
    "visualiser_roc_curve.score(X_test, y_test) #Evaluate them model on test data\n",
    "visualiser_roc_curve.show()"
   ]
  },
  {
   "cell_type": "code",
   "execution_count": 259,
   "metadata": {},
   "outputs": [
    {
     "name": "stdout",
     "output_type": "stream",
     "text": [
      "\n",
      " Classification report:\n",
      "               precision    recall  f1-score   support\n",
      "\n",
      "         0.0       0.90      0.91      0.90      2454\n",
      "         1.0       0.91      0.90      0.90      2478\n",
      "\n",
      "    accuracy                           0.90      4932\n",
      "   macro avg       0.90      0.90      0.90      4932\n",
      "weighted avg       0.90      0.90      0.90      4932\n",
      "\n",
      "\n",
      " GINI :\n",
      " 0.8090906579365409\n",
      "\n",
      " Precision:\n",
      " 0.9127930892636775\n",
      "\n",
      " Recall:\n",
      " 0.8954802259887006\n",
      "\n",
      " F1 score:\n",
      " 0.9040537787736809\n",
      "\n",
      " Cohen Kappa Score:\n",
      " 0.809015623581782\n"
     ]
    }
   ],
   "source": [
    "#print metrics\n",
    "print('\\n Classification report:\\n', classification_report(y_test, y_pred_bt))\n",
    "print('\\n GINI :\\n', 2* roc_auc_score(y_test, y_pred_bt) -1)\n",
    "print('\\n Precision:\\n', precision_score(y_test, y_pred_bt))\n",
    "print('\\n Recall:\\n', recall_score(y_test, y_pred_bt))\n",
    "print('\\n F1 score:\\n', f1_score(y_test, y_pred_bt))\n",
    "print('\\n Cohen Kappa Score:\\n', cohen_kappa_score(y_test, y_pred_bt))"
   ]
  },
  {
   "cell_type": "code",
   "execution_count": 260,
   "metadata": {},
   "outputs": [
    {
     "data": {
      "image/png": "[encoded data removed]",
      "text/plain": [
       "<Figure size 576x288 with 1 Axes>"
      ]
     },
     "metadata": {},
     "output_type": "display_data"
    }
   ],
   "source": [
    "#confusion matrix\n",
    "plt.figure(figsize=(8,4))\n",
    "confusion_matrix(\n",
    "    model,\n",
    "    X_train, y_train, X_test)\n",
    "plt.show()"
   ]
  },
  {
   "cell_type": "code",
   "execution_count": 261,
   "metadata": {
    "scrolled": false
   },
   "outputs": [
    {
     "data": {
      "text/plain": [
       "<matplotlib.axes._subplots.AxesSubplot at 0x25abce5d250>"
      ]
     },
     "execution_count": 261,
     "metadata": {},
     "output_type": "execute_result"
    },
    {
     "data": {
      "image/png": "[encoded data removed]",
      "text/plain": [
       "<Figure size 576x396 with 1 Axes>"
      ]
     },
     "metadata": {},
     "output_type": "display_data"
    }
   ],
   "source": [
    "#for the entire dataset, what features contributed to the outcome?\n",
    "feat_importances = pd.Series(model.steps[-1][-1].feature_importances_, index=X_train.columns)\n",
    "feat_importances.nlargest(20).sort_values(ascending=True).plot(kind ='barh')"
   ]
  },
  {
   "cell_type": "code",
   "execution_count": 262,
   "metadata": {},
   "outputs": [
    {
     "name": "stderr",
     "output_type": "stream",
     "text": [
      "LightGBM binary classifier with TreeExplainer shap values output has changed to a list of ndarray\n"
     ]
    },
    {
     "data": {
      "image/png": "[encoded data removed]",
      "text/plain": [
       "<Figure size 576x424.8 with 1 Axes>"
      ]
     },
     "metadata": {},
     "output_type": "display_data"
    }
   ],
   "source": [
    "#for the rows that were predicted 1 or true, what features contributed to them the most?\n",
    "explainer = shap.TreeExplainer(model[-1])\n",
    "X_test_tr = model[0].transform(X_test)\n",
    "X_test_tr = pd.DataFrame(data=X_test_tr, index=X_test.index, columns=X_test.columns)\n",
    "\n",
    "shap_values = explainer.shap_values(X_test_tr)\n",
    "class_id = 1\n",
    "shap.summary_plot(shap_values[class_id ], X_test, plot_type=\"bar\")"
   ]
  }
 ],
 "metadata": {
  "kernelspec": {
   "display_name": "Python 3",
   "language": "python",
   "name": "python3"
  },
  "language_info": {
   "codemirror_mode": {
    "name": "ipython",
    "version": 3
   },
   "file_extension": ".py",
   "mimetype": "text/x-python",
   "name": "python",
   "nbconvert_exporter": "python",
   "pygments_lexer": "ipython3",
   "version": "3.8.3"
  }
 },
 "nbformat": 4,
 "nbformat_minor": 4
}
