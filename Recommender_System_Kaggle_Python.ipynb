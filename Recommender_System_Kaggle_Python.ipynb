{
 "cells": [
  {
   "cell_type": "markdown",
   "metadata": {},
   "source": [
    "### Kaggle: Retailrocket recommender system dataset\n",
    "#### https://www.kaggle.com/retailrocket/ecommerce-dataset\n",
    "\n",
    "**Objective 1:**\n",
    "When a customer comes to an e-commerce site, he looks for a product with particular properties: price range, vendor, product type and etc. These properties are implicit, so it's hard to determine them through clicks log.\n",
    "\n",
    "Try to create an algorithm which predicts properties of items in \"addtocart\" event by using data from \"view\" events for any visitor in the published log.\n",
    "\n",
    "**Objective 2:**\n",
    "Process of analyzing ecommerce data include very important part of data cleaning. Researchers noticed that in some cases browsing data include up to 40% of abnormal traffic.\n",
    "\n",
    "Firstly, abnormal users add a lot of noise into data and make recommendation system less effective. In order to increase efficiency of recommendation system, abnormal users should be removed from the raw data.\n",
    "\n",
    "Secondly, abnormal users add bias to results of split tests, so this type of users should be removed also from split test data.\n",
    "\n",
    "Elektra Neocleous 19/1/2021"
   ]
  },
  {
   "cell_type": "code",
   "execution_count": null,
   "metadata": {},
   "outputs": [],
   "source": []
  }
 ],
 "metadata": {
  "kernelspec": {
   "display_name": "Python 3",
   "language": "python",
   "name": "python3"
  },
  "language_info": {
   "codemirror_mode": {
    "name": "ipython",
    "version": 3
   },
   "file_extension": ".py",
   "mimetype": "text/x-python",
   "name": "python",
   "nbconvert_exporter": "python",
   "pygments_lexer": "ipython3",
   "version": "3.8.3"
  }
 },
 "nbformat": 4,
 "nbformat_minor": 4
}
